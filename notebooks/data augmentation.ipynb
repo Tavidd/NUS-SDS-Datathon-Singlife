{
 "cells": [
  {
   "cell_type": "markdown",
   "metadata": {},
   "source": [
    "Method 1: SMOTE"
   ]
  },
  {
   "cell_type": "code",
   "execution_count": 25,
   "metadata": {},
   "outputs": [],
   "source": [
    "import os\n",
    "import sys\n",
    "sys.path.append(\"./../src/\")\n",
    "from utilities import REPO_PATH, DATA_PATH, RESPONSE_COL_NAME, get_feature_corr_with_response"
   ]
  },
  {
   "cell_type": "code",
   "execution_count": 26,
   "metadata": {},
   "outputs": [],
   "source": [
    "import pandas as pd\n",
    "import numpy as np\n",
    "import matplotlib.pyplot as plt\n",
    "\n",
    "import random\n",
    "seed = 0\n",
    "random.seed(seed)\n",
    "\n",
    "from imblearn.over_sampling import SMOTE\n",
    "from collections import Counter\n",
    "\n",
    "from sklearn.naive_bayes import GaussianNB\n",
    "from sklearn.metrics import accuracy_score"
   ]
  },
  {
   "cell_type": "code",
   "execution_count": 27,
   "metadata": {},
   "outputs": [],
   "source": [
    "train = pd.read_csv(f\"{DATA_PATH}/train.csv\")\n",
    "test = pd.read_csv(f\"{DATA_PATH}/test.csv\")\n",
    "val = pd.read_csv(f\"{DATA_PATH}/val.csv\")"
   ]
  },
  {
   "cell_type": "code",
   "execution_count": 28,
   "metadata": {},
   "outputs": [],
   "source": [
    "X_train, y_train = train.drop([RESPONSE_COL_NAME], axis=1), train[RESPONSE_COL_NAME]\n",
    "y_test, X_test = test[RESPONSE_COL_NAME], test.drop([RESPONSE_COL_NAME],axis=1)"
   ]
  },
  {
   "cell_type": "code",
   "execution_count": 29,
   "metadata": {},
   "outputs": [
    {
     "name": "stdout",
     "output_type": "stream",
     "text": [
      "Before: Counter({True: 17000, False: 424})\n"
     ]
    }
   ],
   "source": [
    "beforeCounter = Counter(y_train)\n",
    "print(\"Before:\", beforeCounter)"
   ]
  },
  {
   "cell_type": "code",
   "execution_count": 30,
   "metadata": {},
   "outputs": [],
   "source": [
    "sample_ratios = np.arange(0.1,1,0.1)"
   ]
  },
  {
   "cell_type": "code",
   "execution_count": 31,
   "metadata": {},
   "outputs": [
    {
     "name": "stdout",
     "output_type": "stream",
     "text": [
      "After: Counter({True: 17000, False: 1700})\n",
      "Accuracy: 0.5607142857142857\n",
      " \n",
      "After: Counter({True: 17000, False: 3400})\n",
      "Accuracy: 0.5714285714285714\n",
      " \n",
      "After: Counter({True: 17000, False: 5100})\n",
      "Accuracy: 0.5642857142857143\n",
      " \n",
      "After: Counter({True: 17000, False: 6800})\n",
      "Accuracy: 0.5821428571428572\n",
      " \n",
      "After: Counter({True: 17000, False: 8500})\n",
      "Accuracy: 0.5821428571428572\n",
      " \n",
      "After: Counter({True: 17000, False: 10200})\n",
      "Accuracy: 0.5857142857142857\n",
      " \n",
      "After: Counter({True: 17000, False: 11900})\n",
      "Accuracy: 0.5857142857142857\n",
      " \n",
      "After: Counter({True: 17000, False: 13600})\n",
      "Accuracy: 0.5892857142857143\n",
      " \n",
      "After: Counter({True: 17000, False: 15300})\n",
      "Accuracy: 0.5964285714285714\n",
      " \n"
     ]
    }
   ],
   "source": [
    "accuracy_scores_by_ratio = []\n",
    "for ratio in sample_ratios:\n",
    "    smt = SMOTE(sampling_strategy=ratio)\n",
    "    X_train_sm, y_train_sm = smt.fit_resample(X_train, y_train)\n",
    "    afterCounter = Counter(y_train_sm)\n",
    "    print(\"After:\", afterCounter)\n",
    "\n",
    "    clf = GaussianNB()\n",
    "    clf.fit(X_train_sm, y_train_sm)\n",
    "    y_preds = clf.predict(X_test)\n",
    "    accuracy = accuracy_score(y_preds, y_test)\n",
    "    accuracy_scores_by_ratio.append(accuracy)\n",
    "    print(\"Accuracy:\", accuracy)\n",
    "    print(\" \")\n",
    "    "
   ]
  },
  {
   "cell_type": "code",
   "execution_count": 32,
   "metadata": {},
   "outputs": [
    {
     "data": {
      "image/png": "[encoded data removed]",
      "text/plain": [
       "<Figure size 432x288 with 1 Axes>"
      ]
     },
     "metadata": {
      "needs_background": "light"
     },
     "output_type": "display_data"
    }
   ],
   "source": [
    "plt.plot(sample_ratios, accuracy_scores_by_ratio)\n",
    "plt.show()"
   ]
  }
 ],
 "metadata": {
  "kernelspec": {
   "display_name": "Python 3",
   "language": "python",
   "name": "python3"
  },
  "language_info": {
   "codemirror_mode": {
    "name": "ipython",
    "version": 3
   },
   "file_extension": ".py",
   "mimetype": "text/x-python",
   "name": "python",
   "nbconvert_exporter": "python",
   "pygments_lexer": "ipython3",
   "version": "3.8.10"
  }
 },
 "nbformat": 4,
 "nbformat_minor": 2
}
