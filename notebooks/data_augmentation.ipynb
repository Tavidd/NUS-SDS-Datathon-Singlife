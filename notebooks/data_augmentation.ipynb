{
 "cells": [
  {
   "cell_type": "markdown",
   "metadata": {},
   "source": [
    "Method 1: SMOTE"
   ]
  },
  {
   "cell_type": "code",
   "execution_count": 1,
   "metadata": {},
   "outputs": [],
   "source": [
    "import os\n",
    "import sys\n",
    "sys.path.append(\"./../src/\")\n",
    "from utilities import REPO_PATH, DATA_PATH, RESPONSE_COL_NAME, get_feature_corr_with_response"
   ]
  },
  {
   "cell_type": "code",
   "execution_count": 2,
   "metadata": {},
   "outputs": [],
   "source": [
    "import pandas as pd\n",
    "import numpy as np\n",
    "import matplotlib.pyplot as plt\n",
    "\n",
    "import random\n",
    "seed = 0\n",
    "random.seed(seed)\n",
    "\n",
    "from imblearn.over_sampling import SMOTE\n",
    "from collections import Counter\n",
    "\n",
    "from sklearn.naive_bayes import GaussianNB, BernoulliNB\n",
    "from sklearn.metrics import accuracy_score"
   ]
  },
  {
   "cell_type": "code",
   "execution_count": 3,
   "metadata": {},
   "outputs": [],
   "source": [
    "import torch\n",
    "from torch import nn\n",
    "from tqdm.auto import tqdm\n",
    "from torch.utils.data import DataLoader\n",
    "import torch.nn.init as init\n",
    "from torch.utils.data import Dataset"
   ]
  },
  {
   "cell_type": "code",
   "execution_count": 4,
   "metadata": {},
   "outputs": [],
   "source": [
    "train = pd.read_csv(f\"{DATA_PATH}/train.csv\")\n",
    "test = pd.read_csv(f\"{DATA_PATH}/test.csv\")\n",
    "val = pd.read_csv(f\"{DATA_PATH}/val.csv\")"
   ]
  },
  {
   "cell_type": "code",
   "execution_count": 5,
   "metadata": {},
   "outputs": [],
   "source": [
    "X_train, y_train = train.drop([RESPONSE_COL_NAME], axis=1), train[RESPONSE_COL_NAME]\n",
    "y_test, X_test = test[RESPONSE_COL_NAME], test.drop([RESPONSE_COL_NAME],axis=1)"
   ]
  },
  {
   "cell_type": "code",
   "execution_count": 7,
   "metadata": {},
   "outputs": [
    {
     "name": "stdout",
     "output_type": "stream",
     "text": [
      "Before: Counter({True: 17000, False: 424})\n"
     ]
    }
   ],
   "source": [
    "beforeCounter = Counter(y_train)\n",
    "print(\"Before:\", beforeCounter)"
   ]
  },
  {
   "cell_type": "code",
   "execution_count": 8,
   "metadata": {},
   "outputs": [],
   "source": [
    "sample_ratios = np.arange(0.1,1.1,0.1)"
   ]
  },
  {
   "cell_type": "code",
   "execution_count": 9,
   "metadata": {},
   "outputs": [
    {
     "name": "stdout",
     "output_type": "stream",
     "text": [
      "After: Counter({True: 17000, False: 1700})\n",
      "Accuracy: 0.6535714285714286\n",
      " \n",
      "After: Counter({True: 17000, False: 3400})\n",
      "Accuracy: 0.6642857142857143\n",
      " \n",
      "After: Counter({True: 17000, False: 5100})\n",
      "Accuracy: 0.675\n",
      " \n",
      "After: Counter({True: 17000, False: 6800})\n",
      "Accuracy: 0.6785714285714286\n",
      " \n",
      "After: Counter({True: 17000, False: 8500})\n",
      "Accuracy: 0.6821428571428572\n",
      " \n",
      "After: Counter({True: 17000, False: 10200})\n",
      "Accuracy: 0.6821428571428572\n",
      " \n",
      "After: Counter({True: 17000, False: 11900})\n",
      "Accuracy: 0.6785714285714286\n",
      " \n",
      "After: Counter({True: 17000, False: 13600})\n",
      "Accuracy: 0.6785714285714286\n",
      " \n",
      "After: Counter({True: 17000, False: 15300})\n",
      "Accuracy: 0.6892857142857143\n",
      " \n",
      "After: Counter({False: 17000, True: 17000})\n",
      "Accuracy: 0.6857142857142857\n",
      " \n"
     ]
    }
   ],
   "source": [
    "accuracy_scores_by_ratio = []\n",
    "for ratio in sample_ratios:\n",
    "    smt = SMOTE(sampling_strategy=ratio)\n",
    "    X_train_sm, y_train_sm = smt.fit_resample(X_train, y_train)\n",
    "    afterCounter = Counter(y_train_sm)\n",
    "    print(\"After:\", afterCounter)\n",
    "\n",
    "    clf = BernoulliNB()\n",
    "    clf.fit(X_train_sm, y_train_sm)\n",
    "    y_preds = clf.predict(X_test)\n",
    "    accuracy = accuracy_score(y_preds, y_test)\n",
    "    accuracy_scores_by_ratio.append(accuracy)\n",
    "    print(\"Accuracy:\", accuracy)\n",
    "    print(\" \")\n",
    "    "
   ]
  },
  {
   "cell_type": "code",
   "execution_count": 10,
   "metadata": {},
   "outputs": [
    {
     "data": {
      "image/png": "[encoded data removed]",
      "text/plain": [
       "<Figure size 432x288 with 1 Axes>"
      ]
     },
     "metadata": {
      "needs_background": "light"
     },
     "output_type": "display_data"
    }
   ],
   "source": [
    "plt.plot(sample_ratios, accuracy_scores_by_ratio)\n",
    "plt.show()"
   ]
  },
  {
   "cell_type": "markdown",
   "metadata": {},
   "source": [
    "Building a GAN to generate Synthetic Data"
   ]
  },
  {
   "cell_type": "code",
   "execution_count": 6,
   "metadata": {},
   "outputs": [],
   "source": [
    "class Data(Dataset):\n",
    "    def __init__(self, X, y):\n",
    "        self.data = X.values.astype(np.float32)\n",
    "        self.labels = y.values.astype(np.float32)\n",
    "\n",
    "    def __len__(self):\n",
    "        return len(self.data)\n",
    "\n",
    "    def __getitem__(self, idx):\n",
    "\n",
    "        sample = {\n",
    "            'input': torch.tensor(self.data[idx]),\n",
    "            'label': torch.tensor(self.labels[idx])\n",
    "        }\n",
    "        return sample"
   ]
  },
  {
   "cell_type": "code",
   "execution_count": 7,
   "metadata": {},
   "outputs": [],
   "source": [
    "# Generation Block Function\n",
    "def FC_Layer_blockGen(input_dim, output_dim):\n",
    "    single_block = nn.Sequential(\n",
    "        nn.Linear(input_dim, output_dim),\n",
    "\n",
    "        nn.ReLU()\n",
    "    )\n",
    "    return single_block\n",
    "\n",
    "# Discriminattor Block Function   \n",
    "def FC_Layer_BlockDisc(input_dim, output_dim):\n",
    "    return nn.Sequential(\n",
    "        nn.Linear(input_dim, output_dim),\n",
    "        nn.ReLU(),\n",
    "        nn.Dropout(0.4)\n",
    "    )"
   ]
  },
  {
   "cell_type": "code",
   "execution_count": 8,
   "metadata": {},
   "outputs": [],
   "source": [
    "# Generator\n",
    "class Generator(nn.Module):\n",
    "    def __init__(self, latent_dim, output_dim):\n",
    "        super(Generator, self).__init__()\n",
    "        self.model = nn.Sequential(\n",
    "            nn.Linear(latent_dim, 256),\n",
    "            nn.ReLU(),\n",
    "            nn.Linear(256, 512),\n",
    "            nn.ReLU(),\n",
    "            nn.Linear(512, 512),\n",
    "            nn.ReLU(),\n",
    "            nn.Linear(512, output_dim),\n",
    "            nn.Tanh()  \n",
    "        )\n",
    "\n",
    "    def forward(self, x):\n",
    "        return self.model(x)\n",
    "    \n",
    "# Discriminator\n",
    "class Discriminator(nn.Module):\n",
    "    def __init__(self, input_dim):\n",
    "        super(Discriminator, self).__init__()\n",
    "        self.model = nn.Sequential(\n",
    "            nn.Linear(input_dim, 512),\n",
    "            nn.ReLU(),\n",
    "            nn.Dropout(0.4),\n",
    "            nn.Linear(512, 512),\n",
    "            nn.ReLU(),\n",
    "            nn.Dropout(0.4),\n",
    "            nn.Linear(512, 256),\n",
    "            nn.ReLU(),\n",
    "            nn.Dropout(0.4),\n",
    "            nn.Linear(256, 1),\n",
    "            nn.Sigmoid()\n",
    "        )\n",
    "\n",
    "    def forward(self, x):\n",
    "        return self.model(x)\n"
   ]
  },
  {
   "cell_type": "code",
   "execution_count": 9,
   "metadata": {},
   "outputs": [],
   "source": [
    "def weights_init(m):\n",
    "    if isinstance(m, nn.Linear):\n",
    "        init.xavier_uniform_(m.weight)\n",
    "        if m.bias is not None:\n",
    "            init.constant_(m.bias, 0)"
   ]
  },
  {
   "cell_type": "code",
   "execution_count": 10,
   "metadata": {},
   "outputs": [],
   "source": [
    "#Define training parameters\n",
    "batch_size = 256\n",
    "num_epochs = 50\n",
    "lr = 0.0002\n",
    "num_features = 62\n",
    "latent_dim = 20"
   ]
  },
  {
   "cell_type": "code",
   "execution_count": 11,
   "metadata": {},
   "outputs": [],
   "source": [
    "# Define data dimensions\n",
    "noise_dim = 20"
   ]
  },
  {
   "cell_type": "code",
   "execution_count": 12,
   "metadata": {},
   "outputs": [],
   "source": [
    "# MODEL INITIALIZATION\n",
    "generator = Generator(noise_dim, num_features)\n",
    "discriminator = Discriminator(num_features)\n",
    "\n",
    "# LOSS FUNCTION AND OPTIMIZERS\n",
    "criterion = nn.BCELoss()\n",
    "gen_optimizer = torch.optim.Adam(generator.parameters(), lr=lr)\n",
    "disc_optimizer = torch.optim.Adam(discriminator.parameters(), lr=lr)"
   ]
  },
  {
   "cell_type": "code",
   "execution_count": 13,
   "metadata": {},
   "outputs": [],
   "source": [
    "dataset = Data(X_train,y_train)\n",
    "dataloader = DataLoader(dataset, batch_size=batch_size, shuffle=True, drop_last=True)"
   ]
  },
  {
   "cell_type": "code",
   "execution_count": 14,
   "metadata": {},
   "outputs": [],
   "source": [
    "generator = generator.apply(weights_init)\n",
    "discriminator = discriminator.apply(weights_init)"
   ]
  },
  {
   "cell_type": "code",
   "execution_count": 15,
   "metadata": {},
   "outputs": [
    {
     "name": "stdout",
     "output_type": "stream",
     "text": [
      "Epoch 0, D Loss Real: 97.265625, D Loss Fake: 0.19839943945407867, G Loss: 3.2098233699798584\n",
      "Epoch 1, D Loss Real: 97.265625, D Loss Fake: 0.19797861576080322, G Loss: 2.8143837451934814\n",
      "Epoch 2, D Loss Real: 96.875, D Loss Fake: 0.2079828679561615, G Loss: 2.8479833602905273\n",
      "Epoch 3, D Loss Real: 98.4375, D Loss Fake: 0.20768502354621887, G Loss: 2.871220588684082\n",
      "Epoch 4, D Loss Real: 95.703125, D Loss Fake: 0.21285679936408997, G Loss: 2.8376951217651367\n",
      "Epoch 5, D Loss Real: 97.65625, D Loss Fake: 0.20515671372413635, G Loss: 2.8934011459350586\n",
      "Epoch 6, D Loss Real: 98.046875, D Loss Fake: 0.19244825839996338, G Loss: 2.7916908264160156\n",
      "Epoch 7, D Loss Real: 96.875, D Loss Fake: 0.20365092158317566, G Loss: 2.865896701812744\n",
      "Epoch 8, D Loss Real: 98.4375, D Loss Fake: 0.19679862260818481, G Loss: 2.8690593242645264\n",
      "Epoch 9, D Loss Real: 96.484375, D Loss Fake: 0.19793488085269928, G Loss: 2.839559555053711\n",
      "Epoch 10, D Loss Real: 97.265625, D Loss Fake: 0.19665932655334473, G Loss: 2.8330423831939697\n",
      "Epoch 11, D Loss Real: 96.484375, D Loss Fake: 0.19573161005973816, G Loss: 2.8930678367614746\n",
      "Epoch 12, D Loss Real: 98.4375, D Loss Fake: 0.19369369745254517, G Loss: 2.8939106464385986\n",
      "Epoch 13, D Loss Real: 98.4375, D Loss Fake: 0.19850780069828033, G Loss: 2.8923087120056152\n",
      "Epoch 14, D Loss Real: 97.65625, D Loss Fake: 0.19988895952701569, G Loss: 2.861501455307007\n",
      "Epoch 15, D Loss Real: 98.046875, D Loss Fake: 0.20147180557250977, G Loss: 2.849996328353882\n",
      "Epoch 16, D Loss Real: 99.21875, D Loss Fake: 0.20040665566921234, G Loss: 2.824437141418457\n",
      "Epoch 17, D Loss Real: 97.265625, D Loss Fake: 0.19760079681873322, G Loss: 2.9256367683410645\n",
      "Epoch 18, D Loss Real: 99.21875, D Loss Fake: 0.20703832805156708, G Loss: 2.836430072784424\n",
      "Epoch 19, D Loss Real: 96.484375, D Loss Fake: 0.21088644862174988, G Loss: 2.840677499771118\n",
      "Epoch 20, D Loss Real: 97.265625, D Loss Fake: 0.1946193277835846, G Loss: 2.880526304244995\n",
      "Epoch 21, D Loss Real: 96.875, D Loss Fake: 0.20570507645606995, G Loss: 2.8697798252105713\n",
      "Epoch 22, D Loss Real: 98.4375, D Loss Fake: 0.21155868470668793, G Loss: 2.8635542392730713\n",
      "Epoch 23, D Loss Real: 97.265625, D Loss Fake: 0.1982184499502182, G Loss: 2.8271830081939697\n",
      "Epoch 24, D Loss Real: 97.65625, D Loss Fake: 0.1953168362379074, G Loss: 2.8232176303863525\n"
     ]
    }
   ],
   "source": [
    "\n",
    "latent_dim =20\n",
    "for epoch in range(num_epochs):\n",
    "    for batch in dataloader:\n",
    "        real_data_batch = batch['input']\n",
    "        # Train discriminator on real data\n",
    "        real_labels = batch['label']\n",
    "        disc_optimizer.zero_grad()\n",
    "        output_real = discriminator(real_data_batch).reshape(256)\n",
    "        loss_real = criterion(output_real, real_labels)\n",
    "        loss_real.backward()\n",
    "\n",
    "        # Train discriminator on generated data\n",
    "        fake_labels = torch.FloatTensor(np.random.uniform(0, 0.1, (batch_size, 1)))\n",
    "        noise = torch.FloatTensor(np.random.normal(0, 1, (batch_size, latent_dim)))\n",
    "        generated_data = generator(noise)\n",
    "        output_fake = discriminator(generated_data.detach())\n",
    "        loss_fake = criterion(output_fake, fake_labels)\n",
    "        loss_fake.backward()\n",
    "\n",
    "        disc_optimizer.step()\n",
    "\n",
    "        # Train generator \n",
    "        valid_labels = torch.FloatTensor(np.random.uniform(0.9, 1.0, (batch_size, 1)))\n",
    "        gen_optimizer.zero_grad()\n",
    "        output_g = discriminator(generated_data)\n",
    "        loss_g = criterion(output_g, valid_labels)\n",
    "        loss_g.backward()\n",
    "        gen_optimizer.step()\n",
    "\n",
    "    # Print progress\n",
    "    print(f\"Epoch {epoch}, D Loss Real: {loss_real.item()}, D Loss Fake: {loss_fake.item()}, G Loss: {loss_g.item()}\")"
   ]
  },
  {
   "cell_type": "code",
   "execution_count": null,
   "metadata": {},
   "outputs": [],
   "source": [
    "synthetic_data = generator(torch.FloatTensor(np.random.normal(0, 1, (17280-704, noise_dim))))\n",
    "#synthetic_data = [x.detach() for x in synthetic_data]"
   ]
  },
  {
   "cell_type": "code",
   "execution_count": null,
   "metadata": {},
   "outputs": [
    {
     "ename": "NameError",
     "evalue": "name 'synthetic_data' is not defined",
     "output_type": "error",
     "traceback": [
      "\u001b[1;31m---------------------------------------------------------------------------\u001b[0m",
      "\u001b[1;31mNameError\u001b[0m                                 Traceback (most recent call last)",
      "Input \u001b[1;32mIn [1]\u001b[0m, in \u001b[0;36m<module>\u001b[1;34m\u001b[0m\n\u001b[1;32m----> 1\u001b[0m \u001b[43msynthetic_data\u001b[49m\u001b[38;5;241m.\u001b[39mshape\n",
      "\u001b[1;31mNameError\u001b[0m: name 'synthetic_data' is not defined"
     ]
    }
   ],
   "source": [
    "synthetic_data.shape"
   ]
  },
  {
   "cell_type": "code",
   "execution_count": null,
   "metadata": {},
   "outputs": [],
   "source": []
  }
 ],
 "metadata": {
  "kernelspec": {
   "display_name": "Python 3",
   "language": "python",
   "name": "python3"
  },
  "language_info": {
   "codemirror_mode": {
    "name": "ipython",
    "version": 3
   },
   "file_extension": ".py",
   "mimetype": "text/x-python",
   "name": "python",
   "nbconvert_exporter": "python",
   "pygments_lexer": "ipython3",
   "version": "3.8.10"
  }
 },
 "nbformat": 4,
 "nbformat_minor": 2
}
